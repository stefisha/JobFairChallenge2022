{
  "nbformat": 4,
  "nbformat_minor": 0,
  "metadata": {
    "colab": {
      "provenance": [],
      "mount_file_id": "18MSuM9pJPMts0WDfoh58P1xD8PXT3TlF",
      "authorship_tag": "ABX9TyOcGFSjEwjL+rw9VfXipvtq",
      "include_colab_link": true
    },
    "kernelspec": {
      "name": "python3",
      "display_name": "Python 3"
    },
    "language_info": {
      "name": "python"
    },
    "accelerator": "TPU"
  },
  "cells": [
    {
      "cell_type": "markdown",
      "metadata": {
        "id": "view-in-github",
        "colab_type": "text"
      },
      "source": [
        "<a href=\"https://colab.research.google.com/github/stefisha/JobFairChallenge2022/blob/main/NordeusChallenge2022.ipynb\" target=\"_parent\"><img src=\"https://colab.research.google.com/assets/colab-badge.svg\" alt=\"Open In Colab\"/></a>"
      ]
    },
    {
      "cell_type": "code",
      "execution_count": 26,
      "metadata": {
        "id": "sEKhZThN90Z1"
      },
      "outputs": [],
      "source": [
        "import pandas as pd\n",
        "from sklearn.model_selection import train_test_split, GridSearchCV\n",
        "from sklearn.ensemble import RandomForestRegressor\n",
        "from sklearn.preprocessing import StandardScaler, OneHotEncoder\n",
        "from sklearn.compose import ColumnTransformer\n",
        "from sklearn.metrics import mean_squared_error\n",
        "from sklearn.impute import SimpleImputer\n",
        "import numpy as np\n",
        "import os\n",
        "import joblib"
      ]
    },
    {
      "cell_type": "code",
      "source": [
        "# Load the dataset\n",
        "file_path = '/content/drive/MyDrive/JobFairChallenge2022/2. job_fair_retention_prediction_2022_training.csv'\n",
        "data = pd.read_csv(file_path)"
      ],
      "metadata": {
        "id": "f5qEE2Eu_es2"
      },
      "execution_count": 27,
      "outputs": []
    },
    {
      "cell_type": "code",
      "source": [
        "data.head()"
      ],
      "metadata": {
        "colab": {
          "base_uri": "https://localhost:8080/",
          "height": 206
        },
        "id": "hTzyzwAT_tBi",
        "outputId": "b6267d39-121a-4859-c207-c4ef5016d384"
      },
      "execution_count": 28,
      "outputs": [
        {
          "output_type": "execute_result",
          "data": {
            "text/plain": [
              "         date  registration_type  played_t11_before  registration_channel  \\\n",
              "0  2022-06-02                  3                  0                     1   \n",
              "1  2022-06-02                  1                  2                     1   \n",
              "2  2022-06-02                  3                  0                     1   \n",
              "3  2022-06-02                  1                  2                     2   \n",
              "4  2022-06-02                  1                  2                     2   \n",
              "\n",
              "   network_type  device_tier  device_type  device_manufacturer  screen_dpi  \\\n",
              "0             1            3            1                    2       320.0   \n",
              "1             1            4            1                    0       480.0   \n",
              "2             1            3            1                    1       315.0   \n",
              "3             1            2            1                   10       320.0   \n",
              "4             1            1            1                    1       320.0   \n",
              "\n",
              "   device_memory_size_mb                    device_model  \\\n",
              "0                 2820.0                  Xiaomi Redmi 7   \n",
              "1                 2740.0                  OMIX OMIX X300   \n",
              "2                 3571.0                samsung SM-M215F   \n",
              "3                 3774.0  TECNO MOBILE LIMITED TECNO KC3   \n",
              "4                  889.0                samsung SM-A013G   \n",
              "\n",
              "               os_version  registrations  returned  \n",
              "0  Android OS 10 / API-29              1         1  \n",
              "1  Android OS 11 / API-30              1         0  \n",
              "2  Android OS 11 / API-30              1         0  \n",
              "3   Android OS 9 / API-28              1         1  \n",
              "4  Android OS 10 / API-29              1         0  "
            ],
            "text/html": [
              "\n",
              "  <div id=\"df-7c9d65aa-3563-45a0-89d0-7ddd645c5332\" class=\"colab-df-container\">\n",
              "    <div>\n",
              "<style scoped>\n",
              "    .dataframe tbody tr th:only-of-type {\n",
              "        vertical-align: middle;\n",
              "    }\n",
              "\n",
              "    .dataframe tbody tr th {\n",
              "        vertical-align: top;\n",
              "    }\n",
              "\n",
              "    .dataframe thead th {\n",
              "        text-align: right;\n",
              "    }\n",
              "</style>\n",
              "<table border=\"1\" class=\"dataframe\">\n",
              "  <thead>\n",
              "    <tr style=\"text-align: right;\">\n",
              "      <th></th>\n",
              "      <th>date</th>\n",
              "      <th>registration_type</th>\n",
              "      <th>played_t11_before</th>\n",
              "      <th>registration_channel</th>\n",
              "      <th>network_type</th>\n",
              "      <th>device_tier</th>\n",
              "      <th>device_type</th>\n",
              "      <th>device_manufacturer</th>\n",
              "      <th>screen_dpi</th>\n",
              "      <th>device_memory_size_mb</th>\n",
              "      <th>device_model</th>\n",
              "      <th>os_version</th>\n",
              "      <th>registrations</th>\n",
              "      <th>returned</th>\n",
              "    </tr>\n",
              "  </thead>\n",
              "  <tbody>\n",
              "    <tr>\n",
              "      <th>0</th>\n",
              "      <td>2022-06-02</td>\n",
              "      <td>3</td>\n",
              "      <td>0</td>\n",
              "      <td>1</td>\n",
              "      <td>1</td>\n",
              "      <td>3</td>\n",
              "      <td>1</td>\n",
              "      <td>2</td>\n",
              "      <td>320.0</td>\n",
              "      <td>2820.0</td>\n",
              "      <td>Xiaomi Redmi 7</td>\n",
              "      <td>Android OS 10 / API-29</td>\n",
              "      <td>1</td>\n",
              "      <td>1</td>\n",
              "    </tr>\n",
              "    <tr>\n",
              "      <th>1</th>\n",
              "      <td>2022-06-02</td>\n",
              "      <td>1</td>\n",
              "      <td>2</td>\n",
              "      <td>1</td>\n",
              "      <td>1</td>\n",
              "      <td>4</td>\n",
              "      <td>1</td>\n",
              "      <td>0</td>\n",
              "      <td>480.0</td>\n",
              "      <td>2740.0</td>\n",
              "      <td>OMIX OMIX X300</td>\n",
              "      <td>Android OS 11 / API-30</td>\n",
              "      <td>1</td>\n",
              "      <td>0</td>\n",
              "    </tr>\n",
              "    <tr>\n",
              "      <th>2</th>\n",
              "      <td>2022-06-02</td>\n",
              "      <td>3</td>\n",
              "      <td>0</td>\n",
              "      <td>1</td>\n",
              "      <td>1</td>\n",
              "      <td>3</td>\n",
              "      <td>1</td>\n",
              "      <td>1</td>\n",
              "      <td>315.0</td>\n",
              "      <td>3571.0</td>\n",
              "      <td>samsung SM-M215F</td>\n",
              "      <td>Android OS 11 / API-30</td>\n",
              "      <td>1</td>\n",
              "      <td>0</td>\n",
              "    </tr>\n",
              "    <tr>\n",
              "      <th>3</th>\n",
              "      <td>2022-06-02</td>\n",
              "      <td>1</td>\n",
              "      <td>2</td>\n",
              "      <td>2</td>\n",
              "      <td>1</td>\n",
              "      <td>2</td>\n",
              "      <td>1</td>\n",
              "      <td>10</td>\n",
              "      <td>320.0</td>\n",
              "      <td>3774.0</td>\n",
              "      <td>TECNO MOBILE LIMITED TECNO KC3</td>\n",
              "      <td>Android OS 9 / API-28</td>\n",
              "      <td>1</td>\n",
              "      <td>1</td>\n",
              "    </tr>\n",
              "    <tr>\n",
              "      <th>4</th>\n",
              "      <td>2022-06-02</td>\n",
              "      <td>1</td>\n",
              "      <td>2</td>\n",
              "      <td>2</td>\n",
              "      <td>1</td>\n",
              "      <td>1</td>\n",
              "      <td>1</td>\n",
              "      <td>1</td>\n",
              "      <td>320.0</td>\n",
              "      <td>889.0</td>\n",
              "      <td>samsung SM-A013G</td>\n",
              "      <td>Android OS 10 / API-29</td>\n",
              "      <td>1</td>\n",
              "      <td>0</td>\n",
              "    </tr>\n",
              "  </tbody>\n",
              "</table>\n",
              "</div>\n",
              "    <div class=\"colab-df-buttons\">\n",
              "\n",
              "  <div class=\"colab-df-container\">\n",
              "    <button class=\"colab-df-convert\" onclick=\"convertToInteractive('df-7c9d65aa-3563-45a0-89d0-7ddd645c5332')\"\n",
              "            title=\"Convert this dataframe to an interactive table.\"\n",
              "            style=\"display:none;\">\n",
              "\n",
              "  <svg xmlns=\"http://www.w3.org/2000/svg\" height=\"24px\" viewBox=\"0 -960 960 960\">\n",
              "    <path d=\"M120-120v-720h720v720H120Zm60-500h600v-160H180v160Zm220 220h160v-160H400v160Zm0 220h160v-160H400v160ZM180-400h160v-160H180v160Zm440 0h160v-160H620v160ZM180-180h160v-160H180v160Zm440 0h160v-160H620v160Z\"/>\n",
              "  </svg>\n",
              "    </button>\n",
              "\n",
              "  <style>\n",
              "    .colab-df-container {\n",
              "      display:flex;\n",
              "      gap: 12px;\n",
              "    }\n",
              "\n",
              "    .colab-df-convert {\n",
              "      background-color: #E8F0FE;\n",
              "      border: none;\n",
              "      border-radius: 50%;\n",
              "      cursor: pointer;\n",
              "      display: none;\n",
              "      fill: #1967D2;\n",
              "      height: 32px;\n",
              "      padding: 0 0 0 0;\n",
              "      width: 32px;\n",
              "    }\n",
              "\n",
              "    .colab-df-convert:hover {\n",
              "      background-color: #E2EBFA;\n",
              "      box-shadow: 0px 1px 2px rgba(60, 64, 67, 0.3), 0px 1px 3px 1px rgba(60, 64, 67, 0.15);\n",
              "      fill: #174EA6;\n",
              "    }\n",
              "\n",
              "    .colab-df-buttons div {\n",
              "      margin-bottom: 4px;\n",
              "    }\n",
              "\n",
              "    [theme=dark] .colab-df-convert {\n",
              "      background-color: #3B4455;\n",
              "      fill: #D2E3FC;\n",
              "    }\n",
              "\n",
              "    [theme=dark] .colab-df-convert:hover {\n",
              "      background-color: #434B5C;\n",
              "      box-shadow: 0px 1px 3px 1px rgba(0, 0, 0, 0.15);\n",
              "      filter: drop-shadow(0px 1px 2px rgba(0, 0, 0, 0.3));\n",
              "      fill: #FFFFFF;\n",
              "    }\n",
              "  </style>\n",
              "\n",
              "    <script>\n",
              "      const buttonEl =\n",
              "        document.querySelector('#df-7c9d65aa-3563-45a0-89d0-7ddd645c5332 button.colab-df-convert');\n",
              "      buttonEl.style.display =\n",
              "        google.colab.kernel.accessAllowed ? 'block' : 'none';\n",
              "\n",
              "      async function convertToInteractive(key) {\n",
              "        const element = document.querySelector('#df-7c9d65aa-3563-45a0-89d0-7ddd645c5332');\n",
              "        const dataTable =\n",
              "          await google.colab.kernel.invokeFunction('convertToInteractive',\n",
              "                                                    [key], {});\n",
              "        if (!dataTable) return;\n",
              "\n",
              "        const docLinkHtml = 'Like what you see? Visit the ' +\n",
              "          '<a target=\"_blank\" href=https://colab.research.google.com/notebooks/data_table.ipynb>data table notebook</a>'\n",
              "          + ' to learn more about interactive tables.';\n",
              "        element.innerHTML = '';\n",
              "        dataTable['output_type'] = 'display_data';\n",
              "        await google.colab.output.renderOutput(dataTable, element);\n",
              "        const docLink = document.createElement('div');\n",
              "        docLink.innerHTML = docLinkHtml;\n",
              "        element.appendChild(docLink);\n",
              "      }\n",
              "    </script>\n",
              "  </div>\n",
              "\n",
              "\n",
              "<div id=\"df-d9f613fe-8351-4285-9e8a-78201972193f\">\n",
              "  <button class=\"colab-df-quickchart\" onclick=\"quickchart('df-d9f613fe-8351-4285-9e8a-78201972193f')\"\n",
              "            title=\"Suggest charts\"\n",
              "            style=\"display:none;\">\n",
              "\n",
              "<svg xmlns=\"http://www.w3.org/2000/svg\" height=\"24px\"viewBox=\"0 0 24 24\"\n",
              "     width=\"24px\">\n",
              "    <g>\n",
              "        <path d=\"M19 3H5c-1.1 0-2 .9-2 2v14c0 1.1.9 2 2 2h14c1.1 0 2-.9 2-2V5c0-1.1-.9-2-2-2zM9 17H7v-7h2v7zm4 0h-2V7h2v10zm4 0h-2v-4h2v4z\"/>\n",
              "    </g>\n",
              "</svg>\n",
              "  </button>\n",
              "\n",
              "<style>\n",
              "  .colab-df-quickchart {\n",
              "      --bg-color: #E8F0FE;\n",
              "      --fill-color: #1967D2;\n",
              "      --hover-bg-color: #E2EBFA;\n",
              "      --hover-fill-color: #174EA6;\n",
              "      --disabled-fill-color: #AAA;\n",
              "      --disabled-bg-color: #DDD;\n",
              "  }\n",
              "\n",
              "  [theme=dark] .colab-df-quickchart {\n",
              "      --bg-color: #3B4455;\n",
              "      --fill-color: #D2E3FC;\n",
              "      --hover-bg-color: #434B5C;\n",
              "      --hover-fill-color: #FFFFFF;\n",
              "      --disabled-bg-color: #3B4455;\n",
              "      --disabled-fill-color: #666;\n",
              "  }\n",
              "\n",
              "  .colab-df-quickchart {\n",
              "    background-color: var(--bg-color);\n",
              "    border: none;\n",
              "    border-radius: 50%;\n",
              "    cursor: pointer;\n",
              "    display: none;\n",
              "    fill: var(--fill-color);\n",
              "    height: 32px;\n",
              "    padding: 0;\n",
              "    width: 32px;\n",
              "  }\n",
              "\n",
              "  .colab-df-quickchart:hover {\n",
              "    background-color: var(--hover-bg-color);\n",
              "    box-shadow: 0 1px 2px rgba(60, 64, 67, 0.3), 0 1px 3px 1px rgba(60, 64, 67, 0.15);\n",
              "    fill: var(--button-hover-fill-color);\n",
              "  }\n",
              "\n",
              "  .colab-df-quickchart-complete:disabled,\n",
              "  .colab-df-quickchart-complete:disabled:hover {\n",
              "    background-color: var(--disabled-bg-color);\n",
              "    fill: var(--disabled-fill-color);\n",
              "    box-shadow: none;\n",
              "  }\n",
              "\n",
              "  .colab-df-spinner {\n",
              "    border: 2px solid var(--fill-color);\n",
              "    border-color: transparent;\n",
              "    border-bottom-color: var(--fill-color);\n",
              "    animation:\n",
              "      spin 1s steps(1) infinite;\n",
              "  }\n",
              "\n",
              "  @keyframes spin {\n",
              "    0% {\n",
              "      border-color: transparent;\n",
              "      border-bottom-color: var(--fill-color);\n",
              "      border-left-color: var(--fill-color);\n",
              "    }\n",
              "    20% {\n",
              "      border-color: transparent;\n",
              "      border-left-color: var(--fill-color);\n",
              "      border-top-color: var(--fill-color);\n",
              "    }\n",
              "    30% {\n",
              "      border-color: transparent;\n",
              "      border-left-color: var(--fill-color);\n",
              "      border-top-color: var(--fill-color);\n",
              "      border-right-color: var(--fill-color);\n",
              "    }\n",
              "    40% {\n",
              "      border-color: transparent;\n",
              "      border-right-color: var(--fill-color);\n",
              "      border-top-color: var(--fill-color);\n",
              "    }\n",
              "    60% {\n",
              "      border-color: transparent;\n",
              "      border-right-color: var(--fill-color);\n",
              "    }\n",
              "    80% {\n",
              "      border-color: transparent;\n",
              "      border-right-color: var(--fill-color);\n",
              "      border-bottom-color: var(--fill-color);\n",
              "    }\n",
              "    90% {\n",
              "      border-color: transparent;\n",
              "      border-bottom-color: var(--fill-color);\n",
              "    }\n",
              "  }\n",
              "</style>\n",
              "\n",
              "  <script>\n",
              "    async function quickchart(key) {\n",
              "      const quickchartButtonEl =\n",
              "        document.querySelector('#' + key + ' button');\n",
              "      quickchartButtonEl.disabled = true;  // To prevent multiple clicks.\n",
              "      quickchartButtonEl.classList.add('colab-df-spinner');\n",
              "      try {\n",
              "        const charts = await google.colab.kernel.invokeFunction(\n",
              "            'suggestCharts', [key], {});\n",
              "      } catch (error) {\n",
              "        console.error('Error during call to suggestCharts:', error);\n",
              "      }\n",
              "      quickchartButtonEl.classList.remove('colab-df-spinner');\n",
              "      quickchartButtonEl.classList.add('colab-df-quickchart-complete');\n",
              "    }\n",
              "    (() => {\n",
              "      let quickchartButtonEl =\n",
              "        document.querySelector('#df-d9f613fe-8351-4285-9e8a-78201972193f button');\n",
              "      quickchartButtonEl.style.display =\n",
              "        google.colab.kernel.accessAllowed ? 'block' : 'none';\n",
              "    })();\n",
              "  </script>\n",
              "</div>\n",
              "    </div>\n",
              "  </div>\n"
            ]
          },
          "metadata": {},
          "execution_count": 28
        }
      ]
    },
    {
      "cell_type": "code",
      "source": [
        "# Check for missing values in the dataset\n",
        "missing_values = data.isnull().sum()"
      ],
      "metadata": {
        "id": "AXYZaBZv_v0Z"
      },
      "execution_count": 29,
      "outputs": []
    },
    {
      "cell_type": "code",
      "source": [
        "missing_values"
      ],
      "metadata": {
        "colab": {
          "base_uri": "https://localhost:8080/"
        },
        "id": "cBIPyGVdA-c5",
        "outputId": "80511857-a788-445a-e7a2-e0a5d9f405fd"
      },
      "execution_count": 30,
      "outputs": [
        {
          "output_type": "execute_result",
          "data": {
            "text/plain": [
              "date                        0\n",
              "registration_type           0\n",
              "played_t11_before           0\n",
              "registration_channel        0\n",
              "network_type                0\n",
              "device_tier                 0\n",
              "device_type                 0\n",
              "device_manufacturer         0\n",
              "screen_dpi               1890\n",
              "device_memory_size_mb    1890\n",
              "device_model             1890\n",
              "os_version               1890\n",
              "registrations               0\n",
              "returned                    0\n",
              "dtype: int64"
            ]
          },
          "metadata": {},
          "execution_count": 30
        }
      ]
    },
    {
      "cell_type": "code",
      "source": [
        "# Impute missing values\n",
        "# For numerical columns\n",
        "for col in ['screen_dpi', 'device_memory_size_mb']:\n",
        "    median_value = data[col].median()\n",
        "    data[col].fillna(median_value, inplace=True)"
      ],
      "metadata": {
        "id": "5mCg7VtA_x8Q"
      },
      "execution_count": 31,
      "outputs": []
    },
    {
      "cell_type": "code",
      "source": [
        "# For categorical columns\n",
        "for col in ['device_model', 'os_version']:\n",
        "    data[col].fillna('Unknown', inplace=True)"
      ],
      "metadata": {
        "id": "sFUMHXAi_6Cl"
      },
      "execution_count": 32,
      "outputs": []
    },
    {
      "cell_type": "code",
      "source": [
        "# Convert 'date' column to datetime\n",
        "data['date'] = pd.to_datetime(data['date'])"
      ],
      "metadata": {
        "id": "_cwSZ71yBMWF"
      },
      "execution_count": 33,
      "outputs": []
    },
    {
      "cell_type": "code",
      "source": [
        "# Advanced Feature Engineering\n",
        "data['day_of_week'] = data['date'].dt.dayofweek\n",
        "data['is_weekend'] = data['day_of_week'].isin([5, 6]).astype(int)\n",
        "data['month'] = data['date'].dt.month\n",
        "data['week_of_year'] = data['date'].dt.isocalendar().week"
      ],
      "metadata": {
        "id": "PudQOSWE_8d9"
      },
      "execution_count": 34,
      "outputs": []
    },
    {
      "cell_type": "code",
      "source": [
        "# Preparing the features and target variable\n",
        "X = data.drop(['date', 'returned'], axis=1)\n",
        "y = data['returned']"
      ],
      "metadata": {
        "id": "0W5dta1BBSY0"
      },
      "execution_count": 35,
      "outputs": []
    },
    {
      "cell_type": "code",
      "source": [
        "# Splitting the dataset into training and validation sets\n",
        "X_train, X_val, y_train, y_val = train_test_split(X, y, test_size=0.2, random_state=42)"
      ],
      "metadata": {
        "id": "CEqJbc5ZBSWf"
      },
      "execution_count": 36,
      "outputs": []
    },
    {
      "cell_type": "code",
      "source": [
        "# Identifying categorical and numerical columns\n",
        "categorical_cols = X_train.select_dtypes(include=['object', 'category']).columns.tolist()\n",
        "numerical_cols = X_train.select_dtypes(include=['int64', 'float64']).columns.tolist()"
      ],
      "metadata": {
        "id": "ltV1gZIHBSUN"
      },
      "execution_count": 37,
      "outputs": []
    },
    {
      "cell_type": "code",
      "source": [
        "# Creating a ColumnTransformer for transformations\n",
        "preprocessor = ColumnTransformer(\n",
        "    transformers=[\n",
        "        ('num', StandardScaler(), numerical_cols),\n",
        "        ('cat', OneHotEncoder(handle_unknown='ignore'), categorical_cols)\n",
        "    ])"
      ],
      "metadata": {
        "id": "ehWWH0p9BSSK"
      },
      "execution_count": 38,
      "outputs": []
    },
    {
      "cell_type": "code",
      "source": [
        "# Apply transformations to the training set\n",
        "X_train_transformed = preprocessor.fit_transform(X_train)"
      ],
      "metadata": {
        "id": "N423TrC9BSPl"
      },
      "execution_count": 39,
      "outputs": []
    },
    {
      "cell_type": "code",
      "source": [
        "# Apply the same transformations to the validation set\n",
        "X_val_transformed = preprocessor.transform(X_val)"
      ],
      "metadata": {
        "id": "DN2mbD-rCjtL"
      },
      "execution_count": 40,
      "outputs": []
    },
    {
      "cell_type": "code",
      "source": [
        "X_train_transformed_dense = X_train_transformed.toarray()"
      ],
      "metadata": {
        "id": "5Umk-5DrDUyv"
      },
      "execution_count": 41,
      "outputs": []
    },
    {
      "cell_type": "code",
      "source": [
        "# Check for NaN values in the transformed training set\n",
        "if np.isnan(X_train_transformed_dense).any():\n",
        "    imputer = SimpleImputer(missing_values=np.nan, strategy='mean')\n",
        "    X_train_transformed = imputer.fit_transform(X_train_transformed_dense)\n",
        "else:\n",
        "    X_train_transformed = X_train_transformed_dense"
      ],
      "metadata": {
        "id": "lIgxDCXlC81l"
      },
      "execution_count": 42,
      "outputs": []
    },
    {
      "cell_type": "code",
      "source": [
        "# Apply the same transformations and imputation (if necessary) to the validation set\n",
        "X_val_transformed_dense = X_val_transformed.toarray()\n",
        "if np.isnan(X_val_transformed_dense).any():\n",
        "    X_val_transformed = imputer.transform(X_val_transformed_dense)\n",
        "else:\n",
        "    X_val_transformed = X_val_transformed_dense"
      ],
      "metadata": {
        "id": "woe8_wF3C8zD"
      },
      "execution_count": 43,
      "outputs": []
    },
    {
      "cell_type": "code",
      "source": [
        "# # Hyperparameter Tuning for Random Forest with a smaller grid\n",
        "# param_grid = {\n",
        "#     'n_estimators': [100, 150],  # Reduced number of estimators\n",
        "#     'max_depth': [10, 15],       # Shallower trees\n",
        "#     'min_samples_split': [2, 4],\n",
        "#     'min_samples_leaf': [1, 2]\n",
        "# }"
      ],
      "metadata": {
        "id": "j0OStXYJCjqz"
      },
      "execution_count": 44,
      "outputs": []
    },
    {
      "cell_type": "code",
      "source": [
        "# # Set joblib to use a specific directory for temporary files\n",
        "# joblib_temp_folder = \"/path/to/large/disk/space\"  # Set this to a path with more space\n",
        "# os.environ['JOBLIB_TEMP_FOLDER'] = joblib_temp_folder"
      ],
      "metadata": {
        "id": "Esftj0jMFPu2"
      },
      "execution_count": 45,
      "outputs": []
    },
    {
      "cell_type": "code",
      "source": [
        "# # Proceed with the grid search\n",
        "# rf_regressor = RandomForestRegressor(random_state=42)\n",
        "# grid_search = GridSearchCV(estimator=rf_regressor, param_grid=param_grid, cv=3, n_jobs=1, verbose=2)\n",
        "# grid_search.fit(X_train_transformed, y_train)"
      ],
      "metadata": {
        "id": "sncv-MeZCjoP"
      },
      "execution_count": 46,
      "outputs": []
    },
    {
      "cell_type": "code",
      "source": [
        "# # Best parameters\n",
        "# best_params = grid_search.best_params_\n",
        "# print(\"Best parameters:\", best_params)"
      ],
      "metadata": {
        "id": "JjCScdU1CjmB"
      },
      "execution_count": 47,
      "outputs": []
    },
    {
      "cell_type": "code",
      "source": [
        "# # Train the final model with best parameters\n",
        "# final_rf_regressor = RandomForestRegressor(**best_params, random_state=42)\n",
        "# final_rf_regressor.fit(X_train_transformed, y_train)\n"
      ],
      "metadata": {
        "id": "cldR41WSCjjf"
      },
      "execution_count": 48,
      "outputs": []
    },
    {
      "cell_type": "code",
      "source": [
        "rf_regressor = RandomForestRegressor(\n",
        "    n_estimators=5,       # Reduced number of trees SET BACK TO 50\n",
        "    max_depth=10,          # Limiting the depth of trees\n",
        "    min_samples_leaf=4,    # More samples per leaf\n",
        "    n_jobs=-1,             # Use all available cores\n",
        "    random_state=42,\n",
        "    verbose=2              # More detailed updates\n",
        ")\n",
        "rf_regressor.fit(X_train_transformed, y_train)"
      ],
      "metadata": {
        "colab": {
          "base_uri": "https://localhost:8080/",
          "height": 214
        },
        "id": "sbscN1cEGx2q",
        "outputId": "5d204375-7894-42ac-d739-a50f27341022"
      },
      "execution_count": 49,
      "outputs": [
        {
          "output_type": "stream",
          "name": "stderr",
          "text": [
            "[Parallel(n_jobs=-1)]: Using backend ThreadingBackend with 2 concurrent workers.\n"
          ]
        },
        {
          "output_type": "stream",
          "name": "stdout",
          "text": [
            "building tree 1 of 5building tree 2 of 5\n",
            "\n",
            "building tree 3 of 5\n",
            "building tree 4 of 5\n",
            "building tree 5 of 5\n"
          ]
        },
        {
          "output_type": "stream",
          "name": "stderr",
          "text": [
            "[Parallel(n_jobs=-1)]: Done   5 out of   5 | elapsed:  7.4min finished\n"
          ]
        },
        {
          "output_type": "execute_result",
          "data": {
            "text/plain": [
              "RandomForestRegressor(max_depth=10, min_samples_leaf=4, n_estimators=5,\n",
              "                      n_jobs=-1, random_state=42, verbose=2)"
            ],
            "text/html": [
              "<style>#sk-container-id-1 {color: black;background-color: white;}#sk-container-id-1 pre{padding: 0;}#sk-container-id-1 div.sk-toggleable {background-color: white;}#sk-container-id-1 label.sk-toggleable__label {cursor: pointer;display: block;width: 100%;margin-bottom: 0;padding: 0.3em;box-sizing: border-box;text-align: center;}#sk-container-id-1 label.sk-toggleable__label-arrow:before {content: \"▸\";float: left;margin-right: 0.25em;color: #696969;}#sk-container-id-1 label.sk-toggleable__label-arrow:hover:before {color: black;}#sk-container-id-1 div.sk-estimator:hover label.sk-toggleable__label-arrow:before {color: black;}#sk-container-id-1 div.sk-toggleable__content {max-height: 0;max-width: 0;overflow: hidden;text-align: left;background-color: #f0f8ff;}#sk-container-id-1 div.sk-toggleable__content pre {margin: 0.2em;color: black;border-radius: 0.25em;background-color: #f0f8ff;}#sk-container-id-1 input.sk-toggleable__control:checked~div.sk-toggleable__content {max-height: 200px;max-width: 100%;overflow: auto;}#sk-container-id-1 input.sk-toggleable__control:checked~label.sk-toggleable__label-arrow:before {content: \"▾\";}#sk-container-id-1 div.sk-estimator input.sk-toggleable__control:checked~label.sk-toggleable__label {background-color: #d4ebff;}#sk-container-id-1 div.sk-label input.sk-toggleable__control:checked~label.sk-toggleable__label {background-color: #d4ebff;}#sk-container-id-1 input.sk-hidden--visually {border: 0;clip: rect(1px 1px 1px 1px);clip: rect(1px, 1px, 1px, 1px);height: 1px;margin: -1px;overflow: hidden;padding: 0;position: absolute;width: 1px;}#sk-container-id-1 div.sk-estimator {font-family: monospace;background-color: #f0f8ff;border: 1px dotted black;border-radius: 0.25em;box-sizing: border-box;margin-bottom: 0.5em;}#sk-container-id-1 div.sk-estimator:hover {background-color: #d4ebff;}#sk-container-id-1 div.sk-parallel-item::after {content: \"\";width: 100%;border-bottom: 1px solid gray;flex-grow: 1;}#sk-container-id-1 div.sk-label:hover label.sk-toggleable__label {background-color: #d4ebff;}#sk-container-id-1 div.sk-serial::before {content: \"\";position: absolute;border-left: 1px solid gray;box-sizing: border-box;top: 0;bottom: 0;left: 50%;z-index: 0;}#sk-container-id-1 div.sk-serial {display: flex;flex-direction: column;align-items: center;background-color: white;padding-right: 0.2em;padding-left: 0.2em;position: relative;}#sk-container-id-1 div.sk-item {position: relative;z-index: 1;}#sk-container-id-1 div.sk-parallel {display: flex;align-items: stretch;justify-content: center;background-color: white;position: relative;}#sk-container-id-1 div.sk-item::before, #sk-container-id-1 div.sk-parallel-item::before {content: \"\";position: absolute;border-left: 1px solid gray;box-sizing: border-box;top: 0;bottom: 0;left: 50%;z-index: -1;}#sk-container-id-1 div.sk-parallel-item {display: flex;flex-direction: column;z-index: 1;position: relative;background-color: white;}#sk-container-id-1 div.sk-parallel-item:first-child::after {align-self: flex-end;width: 50%;}#sk-container-id-1 div.sk-parallel-item:last-child::after {align-self: flex-start;width: 50%;}#sk-container-id-1 div.sk-parallel-item:only-child::after {width: 0;}#sk-container-id-1 div.sk-dashed-wrapped {border: 1px dashed gray;margin: 0 0.4em 0.5em 0.4em;box-sizing: border-box;padding-bottom: 0.4em;background-color: white;}#sk-container-id-1 div.sk-label label {font-family: monospace;font-weight: bold;display: inline-block;line-height: 1.2em;}#sk-container-id-1 div.sk-label-container {text-align: center;}#sk-container-id-1 div.sk-container {/* jupyter's `normalize.less` sets `[hidden] { display: none; }` but bootstrap.min.css set `[hidden] { display: none !important; }` so we also need the `!important` here to be able to override the default hidden behavior on the sphinx rendered scikit-learn.org. See: https://github.com/scikit-learn/scikit-learn/issues/21755 */display: inline-block !important;position: relative;}#sk-container-id-1 div.sk-text-repr-fallback {display: none;}</style><div id=\"sk-container-id-1\" class=\"sk-top-container\"><div class=\"sk-text-repr-fallback\"><pre>RandomForestRegressor(max_depth=10, min_samples_leaf=4, n_estimators=5,\n",
              "                      n_jobs=-1, random_state=42, verbose=2)</pre><b>In a Jupyter environment, please rerun this cell to show the HTML representation or trust the notebook. <br />On GitHub, the HTML representation is unable to render, please try loading this page with nbviewer.org.</b></div><div class=\"sk-container\" hidden><div class=\"sk-item\"><div class=\"sk-estimator sk-toggleable\"><input class=\"sk-toggleable__control sk-hidden--visually\" id=\"sk-estimator-id-1\" type=\"checkbox\" checked><label for=\"sk-estimator-id-1\" class=\"sk-toggleable__label sk-toggleable__label-arrow\">RandomForestRegressor</label><div class=\"sk-toggleable__content\"><pre>RandomForestRegressor(max_depth=10, min_samples_leaf=4, n_estimators=5,\n",
              "                      n_jobs=-1, random_state=42, verbose=2)</pre></div></div></div></div></div>"
            ]
          },
          "metadata": {},
          "execution_count": 49
        }
      ]
    },
    {
      "cell_type": "code",
      "source": [
        "# Predict and evaluate\n",
        "y_val_pred = rf_regressor.predict(X_val_transformed)\n",
        "rmse = np.sqrt(mean_squared_error(y_val, y_val_pred))\n",
        "print(\"Validation RMSE:\", rmse)"
      ],
      "metadata": {
        "id": "QEbyRw7oCjhM",
        "colab": {
          "base_uri": "https://localhost:8080/"
        },
        "outputId": "c0ca63da-fad9-4b79-87bb-cdf1b2e263aa"
      },
      "execution_count": 50,
      "outputs": [
        {
          "output_type": "stream",
          "name": "stdout",
          "text": [
            "Validation RMSE: 0.5215973363629842\n"
          ]
        },
        {
          "output_type": "stream",
          "name": "stderr",
          "text": [
            "[Parallel(n_jobs=2)]: Using backend ThreadingBackend with 2 concurrent workers.\n",
            "[Parallel(n_jobs=2)]: Done   5 out of   5 | elapsed:    0.0s finished\n"
          ]
        }
      ]
    },
    {
      "cell_type": "code",
      "source": [
        "# Filter for the prediction period (dates after 2022-08-31)\n",
        "prediction_period = data[data['date'] >= '2022-08-31']"
      ],
      "metadata": {
        "id": "ohfa2CexAhl4"
      },
      "execution_count": 51,
      "outputs": []
    },
    {
      "cell_type": "code",
      "source": [
        "# Transform features for prediction\n",
        "X_prediction_period = prediction_period.drop(['date', 'returned'], axis=1)\n",
        "X_prediction_transformed = preprocessor.transform(X_prediction_period)\n"
      ],
      "metadata": {
        "id": "cerh1gZ6EnoP"
      },
      "execution_count": 52,
      "outputs": []
    },
    {
      "cell_type": "code",
      "source": [
        "# If imputer was used\n",
        "if np.isnan(X_prediction_transformed.toarray()).any():\n",
        "    X_prediction_transformed = imputer.transform(X_prediction_transformed.toarray())\n"
      ],
      "metadata": {
        "id": "BD_qduVaEnkn"
      },
      "execution_count": 53,
      "outputs": []
    },
    {
      "cell_type": "code",
      "source": [
        "# Predict 'returned' values\n",
        "predicted_returned = rf_regressor.predict(X_prediction_transformed)\n"
      ],
      "metadata": {
        "id": "jRT4ce6NEniE",
        "colab": {
          "base_uri": "https://localhost:8080/"
        },
        "outputId": "b362ca0f-c89b-4bba-9813-445103f92d85"
      },
      "execution_count": 55,
      "outputs": [
        {
          "output_type": "stream",
          "name": "stderr",
          "text": [
            "[Parallel(n_jobs=2)]: Using backend ThreadingBackend with 2 concurrent workers.\n",
            "[Parallel(n_jobs=2)]: Done   5 out of   5 | elapsed:    0.1s finished\n"
          ]
        }
      ]
    },
    {
      "cell_type": "code",
      "source": [
        "# Calculate Retention Day 1 percentages\n",
        "predicted_retention_d1 = (predicted_returned / prediction_period['registrations']) * 100\n"
      ],
      "metadata": {
        "id": "QfJ_WLewEnfu"
      },
      "execution_count": 56,
      "outputs": []
    },
    {
      "cell_type": "code",
      "source": [
        "# Create submission DataFrame\n",
        "submission_df = pd.DataFrame({\n",
        "    'date': prediction_period['date'],\n",
        "    'retention_d1': np.round(predicted_retention_d1, 4)\n",
        "})"
      ],
      "metadata": {
        "id": "296Y3m6jEndf"
      },
      "execution_count": 57,
      "outputs": []
    },
    {
      "cell_type": "code",
      "source": [
        "# Save to CSV\n",
        "submission_file_path = '/content/drive/MyDrive/JobFairChallenge2022/retention_d1_predictions.csv'  # Adjust the path as necessary\n",
        "submission_df.to_csv(submission_file_path, index=False, date_format='%Y-%m-%d', float_format='%.4f')\n"
      ],
      "metadata": {
        "id": "z5S1rft6EnbI"
      },
      "execution_count": 60,
      "outputs": []
    },
    {
      "cell_type": "code",
      "source": [
        "print(f\"Submission saved to {submission_file_path}\")"
      ],
      "metadata": {
        "id": "SPSln5ZwEvmp",
        "colab": {
          "base_uri": "https://localhost:8080/"
        },
        "outputId": "f43b6b8d-9439-405b-8b24-8cc2e2a5b12b"
      },
      "execution_count": 61,
      "outputs": [
        {
          "output_type": "stream",
          "name": "stdout",
          "text": [
            "Submission saved to /content/drive/MyDrive/JobFairChallenge2022/retention_d1_predictions.csv\n"
          ]
        }
      ]
    },
    {
      "cell_type": "code",
      "source": [
        "# from xgboost import XGBRegressor\n",
        "\n",
        "# xgb_regressor = XGBRegressor(\n",
        "#     n_estimators=100,\n",
        "#     max_depth=6,  # Similar to RF, but often shallower works well\n",
        "#     learning_rate=0.1,  # Default learning rate\n",
        "#     verbosity=1,  # Verbose output\n",
        "#     random_state=42,\n",
        "#     n_jobs=-1  # Use all available cores\n",
        "# )\n",
        "\n",
        "# xgb_regressor.fit(X_train_transformed, y_train, eval_metric='rmse', verbose=True)"
      ],
      "metadata": {
        "id": "vfq4McBIQf5Z"
      },
      "execution_count": 1,
      "outputs": []
    },
    {
      "cell_type": "code",
      "source": [],
      "metadata": {
        "id": "0S_qkDFOQwyw"
      },
      "execution_count": null,
      "outputs": []
    }
  ]
}